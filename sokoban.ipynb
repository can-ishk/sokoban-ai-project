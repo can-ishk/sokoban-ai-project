{
  "cells": [
    {
      "cell_type": "markdown",
      "metadata": {
        "id": "view-in-github",
        "colab_type": "text"
      },
      "source": [
        "<a href=\"https://colab.research.google.com/github/can-ishk/sokoban-ai-project/blob/main/sokoban.ipynb\" target=\"_parent\"><img src=\"https://colab.research.google.com/assets/colab-badge.svg\" alt=\"Open In Colab\"/></a>"
      ]
    },
    {
      "cell_type": "markdown",
      "source": [
        "# Introduction:\n",
        "Sokoban Solver Implementation by our team.\n",
        "References:\n",
        "\n",
        "*   https://www.cs.huji.ac.il/w~ai/projects/2012/SokobanWP/files/report.pdf\n",
        "*   https://arxiv.org/pdf/1807.00049.pdf\n",
        "*   https://baldur.iti.kit.edu/theses/SokobanPortfolio.pdf\n",
        "*   https://github.com/angusfung/sokoban-AI (for future)\n",
        "\n"
      ],
      "metadata": {
        "id": "X7ewih3ICe9U"
      }
    },
    {
      "cell_type": "code",
      "execution_count": null,
      "metadata": {
        "id": "Ax5L0S4CJi-M"
      },
      "outputs": [],
      "source": [
        "import os, sys\n",
        "import copy\n",
        "from collections import deque\n",
        "import heapq\n",
        "import math"
      ]
    },
    {
      "cell_type": "markdown",
      "source": [
        "# State Modelling:"
      ],
      "metadata": {
        "id": "ZTZNuibeBA1u"
      }
    },
    {
      "cell_type": "code",
      "execution_count": null,
      "metadata": {
        "id": "tDSFxv7UJi-N"
      },
      "outputs": [],
      "source": [
        "################################# Declaration: #################################\n",
        "# Implementation inspired by https://arxiv.org/pdf/1807.00049.pdf\n",
        "# Some parts are borrowed directly and then modified/upgraded as per requirements.\n",
        "################################################################################\n",
        "class Matrix(list):\n",
        "    \"\"\"\n",
        "    Game state is represented using a matrix.\n",
        "    It contains not only the grid information but also\n",
        "    utility methods\n",
        "    \"\"\"\n",
        "    size = None\n",
        "    target_found = False\n",
        "    _string = None\n",
        "    moves = None\n",
        "    actions = \"\"\n",
        "    def getSize(self):\n",
        "        \"\"\"\n",
        "        Gets the size of the matrix (The maximum width/height)\n",
        "        \"\"\"\n",
        "        return self.size\n",
        "\n",
        "    def getPlayerPosition(self):\n",
        "        \"\"\"\n",
        "        Gets the position of the player in the current state\n",
        "        \"\"\"\n",
        "        # Iterate all Rows\n",
        "        for i in range(0, len(self)):\n",
        "            # Iterate all columns\n",
        "            for k in range(0, len(self[i]) - 1):\n",
        "                if self[i][k] == \"@\":\n",
        "                    return [k, i]\n",
        "\n",
        "    def getBoxes(self):\n",
        "        \"\"\"\n",
        "        Gets the position of all the boxes on screen\n",
        "        \"\"\"\n",
        "        # Iterate all Rows\n",
        "        boxes = []\n",
        "        for i in range(0, len(self)):\n",
        "            # Iterate all columns\n",
        "            for k in range(0, len(self[i]) - 1):\n",
        "                if self[i][k] == \"$\":\n",
        "                    boxes.append([k, i])\n",
        "        return boxes\n",
        "\n",
        "    def getTargets(self):\n",
        "        \"\"\"\n",
        "        Gets the position of all the targets on screen\n",
        "        \"\"\"\n",
        "        # Iterate all Rows\n",
        "        boxes = []\n",
        "        for i in range(0, len(self)):\n",
        "            # Iterate all columns\n",
        "            for k in range(0, len(self[i]) - 1):\n",
        "                if self[i][k] == \".\":\n",
        "                    boxes.append([k, i])\n",
        "        return boxes\n",
        "\n",
        "    def isSuccess(self):\n",
        "        \"\"\"\n",
        "        Checks if the current state is the end state of the game.\n",
        "        \"\"\"\n",
        "        return len(self.getBoxes()) == 0\n",
        "        \n",
        "    def getPossibleActions(self):\n",
        "        x = self.getPlayerPosition()[0]\n",
        "        y = self.getPlayerPosition()[1]\n",
        "        def update_valid(item, move, get_two_step):\n",
        "            if item not in \"*#$\":\n",
        "                return (move.lower(), 'Move')\n",
        "            if item in \"$*\" and get_two_step() not in \"*#$\":\n",
        "                # We really prefer pushing the blocks over just roaming around\n",
        "                # We do not like moving blocks out of their respective targets\n",
        "                return (move, \"Push\") if item == '$' else (move, \"PushOut\")\n",
        "            return None\n",
        "        moves = []\n",
        "        action_cost = update_valid(self[y][x - 1], 'L', lambda: self[y][x - 2])\n",
        "        if action_cost is not None:\n",
        "            moves.append(action_cost)\n",
        "        action_cost = update_valid(self[y][x + 1], 'R', lambda: self[y][x + 2])\n",
        "        if action_cost is not None:\n",
        "            moves.append(action_cost)\n",
        "        action_cost = update_valid(self[y - 1][x], 'U', lambda: self[y - 2][x])\n",
        "        if action_cost is not None:\n",
        "            moves.append(action_cost)\n",
        "        action_cost = update_valid(self[y + 1][x], 'D', lambda: self[y + 2][x])\n",
        "        if action_cost is not None:\n",
        "            moves.append(action_cost)\n",
        "        return moves\n",
        "\n",
        "    def successor(self, direction, performOnSelf=False):\n",
        "        if performOnSelf:\n",
        "            return self.successorInternal(self, direction)\n",
        "        matrix = copy.deepcopy(self)\n",
        "        self.successorInternal(matrix, direction)\n",
        "        matrix._string = None\n",
        "        return matrix\n",
        "\n",
        "    def toString(self, clear=False):\n",
        "        \"\"\"\n",
        "        Gives a string version of self that is cached with the assumption that\n",
        "        the object has not been mutated. The value can be stale if clear is not true\n",
        "        \"\"\"\n",
        "        if self._string is not None and clear is False:\n",
        "            return self._string\n",
        "        self._string = \"\\n\".join([\"\".join(x) for x in self])\n",
        "        return self._string\n",
        "\n",
        "    def __hash__(self):\n",
        "        return hash(self.toString())\n",
        "\n",
        "    def __str__(self):\n",
        "        return self.toString()\n",
        "\n",
        "    def successorInternal(self, matrix, direction):\n",
        "        x = matrix.getPlayerPosition()[0]\n",
        "        y = matrix.getPlayerPosition()[1]\n",
        "\n",
        "        # print boxes\n",
        "        # print matrix.getBoxes()\n",
        "\n",
        "        if direction.upper() == \"L\":\n",
        "            # print \"######### Moving Left #########\"\n",
        "\n",
        "            # if is_space\n",
        "            if matrix[y][x - 1] == \" \":\n",
        "                # print \"OK Space Found\"\n",
        "                matrix[y][x - 1] = \"@\"\n",
        "                if matrix.target_found == True:\n",
        "                    matrix[y][x] = \".\"\n",
        "                    matrix.target_found = False\n",
        "                else:\n",
        "                    matrix[y][x] = \" \"\n",
        "\n",
        "            # if is_box\n",
        "            elif matrix[y][x - 1] == \"$\":\n",
        "                # print \"Box Found\"\n",
        "                if matrix[y][x - 2] == \" \":\n",
        "                    matrix[y][x - 2] = \"$\"\n",
        "                    matrix[y][x - 1] = \"@\"\n",
        "                    if matrix.target_found == True:\n",
        "                        matrix[y][x] = \".\"\n",
        "                        matrix.target_found = False\n",
        "                    else:\n",
        "                        matrix[y][x] = \" \"\n",
        "                elif matrix[y][x - 2] == \".\":\n",
        "                    matrix[y][x - 2] = \"*\"\n",
        "                    matrix[y][x - 1] = \"@\"\n",
        "                    if matrix.target_found == True:\n",
        "                        matrix[y][x] = \".\"\n",
        "                        matrix.target_found = False\n",
        "                    else:\n",
        "                        matrix[y][x] = \" \"\n",
        "\n",
        "            # if is_box_on_target\n",
        "            elif matrix[y][x - 1] == \"*\":\n",
        "                # print \"Box on target Found\"\n",
        "                if matrix[y][x - 2] == \" \":\n",
        "                    matrix[y][x - 2] = \"$\"\n",
        "                    matrix[y][x - 1] = \"@\"\n",
        "                    if matrix.target_found == True:\n",
        "                        matrix[y][x] = \".\"\n",
        "                    else:\n",
        "                        matrix[y][x] = \" \"\n",
        "                    matrix.target_found = True\n",
        "\n",
        "                elif matrix[y][x - 2] == \".\":\n",
        "                    matrix[y][x - 2] = \"*\"\n",
        "                    matrix[y][x - 1] = \"@\"\n",
        "                    if matrix.target_found == True:\n",
        "                        matrix[y][x] = \".\"\n",
        "                    else:\n",
        "                        matrix[y][x] = \" \"\n",
        "                    matrix.target_found = True\n",
        "\n",
        "            # if is_target\n",
        "            elif matrix[y][x - 1] == \".\":\n",
        "                # print \"Target Found\"\n",
        "                matrix[y][x - 1] = \"@\"\n",
        "                if matrix.target_found == True:\n",
        "                    matrix[y][x] = \".\"\n",
        "                else:\n",
        "                    matrix[y][x] = \" \"\n",
        "                matrix.target_found = True\n",
        "\n",
        "            # else\n",
        "            else:\n",
        "                pass\n",
        "                #print \"There is a wall here\"\n",
        "\n",
        "        elif direction.upper() == \"R\":\n",
        "            # print \"######### Moving Right #########\"\n",
        "\n",
        "            # if is_space\n",
        "            if matrix[y][x + 1] == \" \":\n",
        "                # print \"OK Space Found\"\n",
        "                matrix[y][x + 1] = \"@\"\n",
        "                if matrix.target_found == True:\n",
        "                    matrix[y][x] = \".\"\n",
        "                    matrix.target_found = False\n",
        "                else:\n",
        "                    matrix[y][x] = \" \"\n",
        "\n",
        "            # if is_box\n",
        "            elif matrix[y][x + 1] == \"$\":\n",
        "                # print \"Box Found\"\n",
        "                if matrix[y][x + 2] == \" \":\n",
        "                    matrix[y][x + 2] = \"$\"\n",
        "                    matrix[y][x + 1] = \"@\"\n",
        "                    if matrix.target_found == True:\n",
        "                        matrix[y][x] = \".\"\n",
        "                        matrix.target_found = False\n",
        "                    else:\n",
        "                        matrix[y][x] = \" \"\n",
        "\n",
        "                elif matrix[y][x + 2] == \".\":\n",
        "                    matrix[y][x + 2] = \"*\"\n",
        "                    matrix[y][x + 1] = \"@\"\n",
        "                    if matrix.target_found == True:\n",
        "                        matrix[y][x] = \".\"\n",
        "                        matrix.target_found = False\n",
        "                    else:\n",
        "                        matrix[y][x] = \" \"\n",
        "\n",
        "            # if is_box_on_target\n",
        "            elif matrix[y][x + 1] == \"*\":\n",
        "                # print \"Box on target Found\"\n",
        "                if matrix[y][x + 2] == \" \":\n",
        "                    matrix[y][x + 2] = \"$\"\n",
        "                    matrix[y][x + 1] = \"@\"\n",
        "                    if matrix.target_found == True:\n",
        "                        matrix[y][x] = \".\"\n",
        "                    else:\n",
        "                        matrix[y][x] = \" \"\n",
        "                    matrix.target_found = True\n",
        "\n",
        "                elif matrix[y][x + 2] == \".\":\n",
        "                    matrix[y][x + 2] = \"*\"\n",
        "                    matrix[y][x + 1] = \"@\"\n",
        "                    if matrix.target_found == True:\n",
        "                        matrix[y][x] = \".\"\n",
        "                    else:\n",
        "                        matrix[y][x] = \" \"\n",
        "                    matrix.target_found = True\n",
        "\n",
        "            # if is_target\n",
        "            elif matrix[y][x + 1] == \".\":\n",
        "                # print \"Target Found\"\n",
        "                matrix[y][x + 1] = \"@\"\n",
        "                if matrix.target_found == True:\n",
        "                    matrix[y][x] = \".\"\n",
        "                else:\n",
        "                    matrix[y][x] = \" \"\n",
        "                matrix.target_found = True\n",
        "\n",
        "            # else\n",
        "            else:\n",
        "                pass\n",
        "                # print \"There is a wall here\"\n",
        "\n",
        "        elif direction.upper() == \"D\":\n",
        "            # print \"######### Moving Down #########\"\n",
        "\n",
        "            # if is_space\n",
        "            if matrix[y + 1][x] == \" \":\n",
        "                # print \"OK Space Found\"\n",
        "                matrix[y + 1][x] = \"@\"\n",
        "                if matrix.target_found == True:\n",
        "                    matrix[y][x] = \".\"\n",
        "                    matrix.target_found = False\n",
        "                else:\n",
        "                    matrix[y][x] = \" \"\n",
        "\n",
        "            # if is_box\n",
        "            elif matrix[y + 1][x] == \"$\":\n",
        "                # print \"Box Found\"\n",
        "                if matrix[y + 2][x] == \" \":\n",
        "                    matrix[y + 2][x] = \"$\"\n",
        "                    matrix[y + 1][x] = \"@\"\n",
        "                    if matrix.target_found == True:\n",
        "                        matrix[y][x] = \".\"\n",
        "                        matrix.target_found = False\n",
        "                    else:\n",
        "                        matrix[y][x] = \" \"\n",
        "\n",
        "                elif matrix[y + 2][x] == \".\":\n",
        "                    matrix[y + 2][x] = \"*\"\n",
        "                    matrix[y + 1][x] = \"@\"\n",
        "                    if matrix.target_found == True:\n",
        "                        matrix[y][x] = \".\"\n",
        "                        matrix.target_found = False\n",
        "                    else:\n",
        "                        matrix[y][x] = \" \"\n",
        "\n",
        "            # if is_box_on_target\n",
        "            elif matrix[y + 1][x] == \"*\":\n",
        "                # print \"Box on target Found\"\n",
        "                if matrix[y + 2][x] == \" \":\n",
        "                    matrix[y + 2][x] = \"$\"\n",
        "                    matrix[y + 1][x] = \"@\"\n",
        "                    if matrix.target_found == True:\n",
        "                        matrix[y][x] = \".\"\n",
        "                    else:\n",
        "                        matrix[y][x] = \" \"\n",
        "                    matrix.target_found = True\n",
        "\n",
        "                elif matrix[y + 2][x] == \".\":\n",
        "                    matrix[y + 2][x] = \"*\"\n",
        "                    matrix[y + 1][x] = \"@\"\n",
        "                    if matrix.target_found == True:\n",
        "                        matrix[y][x] = \".\"\n",
        "                    else:\n",
        "                        matrix[y][x] = \" \"\n",
        "                    matrix.target_found = True\n",
        "\n",
        "            # if is_target\n",
        "            elif matrix[y + 1][x] == \".\":\n",
        "                # print \"Target Found\"\n",
        "                matrix[y + 1][x] = \"@\"\n",
        "                if matrix.target_found == True:\n",
        "                    matrix[y][x] = \".\"\n",
        "                else:\n",
        "                    matrix[y][x] = \" \"\n",
        "                matrix.target_found = True\n",
        "\n",
        "            # else\n",
        "            else:\n",
        "                pass\n",
        "                # print \"There is a wall here\"\n",
        "\n",
        "        elif direction.upper() == \"U\":\n",
        "            # print \"######### Moving Up #########\"\n",
        "\n",
        "            # if is_space\n",
        "            if matrix[y - 1][x] == \" \":\n",
        "                # print \"OK Space Found\"\n",
        "                matrix[y - 1][x] = \"@\"\n",
        "                if matrix.target_found == True:\n",
        "                    matrix[y][x] = \".\"\n",
        "                    matrix.target_found = False\n",
        "                else:\n",
        "                    matrix[y][x] = \" \"\n",
        "\n",
        "            # if is_box\n",
        "            elif matrix[y - 1][x] == \"$\":\n",
        "                # print \"Box Found\"\n",
        "                if matrix[y - 2][x] == \" \":\n",
        "                    matrix[y - 2][x] = \"$\"\n",
        "                    matrix[y - 1][x] = \"@\"\n",
        "                    if matrix.target_found == True:\n",
        "                        matrix[y][x] = \".\"\n",
        "                        matrix.target_found = False\n",
        "                    else:\n",
        "                        matrix[y][x] = \" \"\n",
        "\n",
        "                elif matrix[y - 2][x] == \".\":\n",
        "                    matrix[y - 2][x] = \"*\"\n",
        "                    matrix[y - 1][x] = \"@\"\n",
        "                    if matrix.target_found == True:\n",
        "                        matrix[y][x] = \".\"\n",
        "                        matrix.target_found = False\n",
        "                    else:\n",
        "                        matrix[y][x] = \" \"\n",
        "\n",
        "            # if is_box_on_target\n",
        "            elif matrix[y - 1][x] == \"*\":\n",
        "                # print \"Box on target Found\"\n",
        "                if matrix[y - 2][x] == \" \":\n",
        "                    matrix[y - 2][x] = \"$\"\n",
        "                    matrix[y - 1][x] = \"@\"\n",
        "                    if matrix.target_found == True:\n",
        "                        matrix[y][x] = \".\"\n",
        "                    else:\n",
        "                        matrix[y][x] = \" \"\n",
        "                    matrix.target_found = True\n",
        "\n",
        "                elif matrix[y - 2][x] == \".\":\n",
        "                    matrix[y - 2][x] = \"*\"\n",
        "                    matrix[y - 1][x] = \"@\"\n",
        "                    if matrix.target_found == True:\n",
        "                        matrix[y][x] = \".\"\n",
        "                    else:\n",
        "                        matrix[y][x] = \" \"\n",
        "                    matrix.target_found = True\n",
        "\n",
        "            # if is_target\n",
        "            elif matrix[y - 1][x] == \".\":\n",
        "                # print \"Target Found\"\n",
        "                matrix[y - 1][x] = \"@\"\n",
        "                if matrix.target_found == True:\n",
        "                    matrix[y][x] = \".\"\n",
        "                else:\n",
        "                    matrix[y][x] = \" \"\n",
        "                matrix.target_found = True\n",
        "\n",
        "            # else\n",
        "            else:\n",
        "                pass\n",
        "                # print \"There is a wall here\"\n",
        "        "
      ]
    },
    {
      "cell_type": "markdown",
      "source": [
        "# Level Modelling:"
      ],
      "metadata": {
        "id": "dJFX3Jl6BSEX"
      }
    },
    {
      "cell_type": "code",
      "source": [
        "\n",
        "class Level:\n",
        "    matrix = Matrix()\n",
        "    matrix_history = []\n",
        "\n",
        "    def __init__(self,set,level_num):\n",
        "\n",
        "        del self.matrix[:]\n",
        "        del self.matrix_history[:]\n",
        "        # Create level\n",
        "        with open(set+'/level' + str(level_num)+'.xsb', 'r') as f:\n",
        "                for row in f.read().splitlines():\n",
        "                    self.matrix.append(list(row))\n",
        "\n",
        "        max_row_length = 0\n",
        "        # Iterate all Rows\n",
        "        for i in range(0, len(self.matrix)):\n",
        "            # Iterate all columns\n",
        "            row_length = len(self.matrix[i])\n",
        "            if row_length > max_row_length:\n",
        "                max_row_length = row_length\n",
        "        self.matrix.size = [max_row_length, len(self.matrix)]\n",
        "        self.matrix.width = max_row_length\n",
        "        self.matrix.height = len(self.matrix)\n",
        "\n",
        "    def __del__(self):\n",
        "        \"Destructor to make sure object shuts down, etc.\"\n",
        "\n",
        "    def getMatrix(self):\n",
        "        return self.matrix\n",
        "\n",
        "    def addToHistory(self,matrix):\n",
        "        self.matrix_history.append(copy.deepcopy(matrix))\n",
        "\n",
        "    def undo(self):\n",
        "        if len(self.matrix_history) > 0:\n",
        "            lastMatrix = self.matrix_history.pop()\n",
        "            self.matrix = lastMatrix\n",
        "            return lastMatrix\n",
        "        else:\n",
        "            return self.matrix\n",
        "\n",
        "\n"
      ],
      "metadata": {
        "id": "Faat-xgoBOSv"
      },
      "execution_count": null,
      "outputs": []
    },
    {
      "cell_type": "markdown",
      "source": [
        "# Game Solver Engine:\n",
        "\n",
        "> Methods available: DFS, BFS, UCS (with two costs), A* (with two heuristics).\n",
        "\n",
        "\n",
        "> Implemention: A* implemented. UCS is implemented as A* with no heuristic. BFS is implemented as UCS with no cost. DFS is implemented seperately. \n",
        "\n",
        "\n",
        "\n"
      ],
      "metadata": {
        "id": "wtYDAenGBefv"
      }
    },
    {
      "cell_type": "code",
      "execution_count": null,
      "metadata": {
        "id": "KoUZom4RJi-P"
      },
      "outputs": [],
      "source": [
        "def distance(method):\n",
        "    def calc(state, cache):\n",
        "        if 'min_distance' not in cache:\n",
        "            cache['min_distance'] = {}\n",
        "        player = state.getPlayerPosition()\n",
        "        boxes = state.getBoxes()\n",
        "        targets = state.getTargets()\n",
        "        total = 0\n",
        "        key = (\",\".join([str(x[0]) + \"-\" + str(x[1]) for x in boxes]),\n",
        "               \",\".join([str(x[0]) + \"-\" + str(x[1]) for x in targets]))\n",
        "        if key in cache['min_distance']:\n",
        "            total = cache['min_distance'][key]\n",
        "        else:\n",
        "            for b in boxes:\n",
        "                total += min([method(b, t) for t in targets] or [0])\n",
        "            cache['min_distance'][key] = total\n",
        "        total += sum([method(player, b) for b in boxes] or [0])\n",
        "        return total\n",
        "\n",
        "    return calc\n",
        "\n",
        "def default(key, cache):\n",
        "    if key == 'Move':\n",
        "        return 1\n",
        "    elif key == 'Push':\n",
        "        return 2\n",
        "    elif key == 'PushOut':\n",
        "        return 10\n",
        "\n",
        "\n",
        "def cost2(key, cache):\n",
        "    if key == 'Move':\n",
        "        return 2\n",
        "    elif key == 'Push':\n",
        "        return 1\n",
        "    elif key == 'PushOut':\n",
        "        return 2\n",
        "\n",
        "\n",
        "class solver():\n",
        "    cache = {}\n",
        "    costs = {\n",
        "        \"none\": lambda key, cache: 1,\n",
        "        \"default\": default,\n",
        "        \"cost2\": cost2\n",
        "    }\n",
        "    global distance\n",
        "    heuristic = {\n",
        "        \"manhatten\": distance(lambda a, b: abs(a[0] - b[0]) + abs(a[1] - b[1])),\n",
        "        \"none\": lambda x, y: 0,\n",
        "        \"euclidean\": distance(lambda x, y: math.sqrt((x[0]-y[0])**2 + (x[1]-y[1])**2)),\n",
        "    }\n",
        "    def refresh(self):\n",
        "        self.cache = {}\n",
        "\n",
        "    def dfs(self, startState, maxDepth=150, cache={}):\n",
        "        stack = deque([(startState, \"\")])\n",
        "        while len(stack) > 0:\n",
        "            state, actions = stack.pop()\n",
        "            cache[state.toString()] = len(actions)\n",
        "            # print(actions)\n",
        "            if state.isSuccess():\n",
        "                return (actions,len(cache))\n",
        "            if len(actions) == maxDepth:\n",
        "                continue\n",
        "            for (action, _) in state.getPossibleActions():\n",
        "                successor = state.successor(action)\n",
        "                # Don't go to an explored state\n",
        "                if successor.toString() in cache and cache[successor.toString()] <= len(actions) + 1:\n",
        "                    continue\n",
        "                # Don't go to a state already marked for visiting\n",
        "                stack.append((successor, actions + action))\n",
        "        return (\"\",0)\n",
        "\n",
        "    def bfs(self, startState, maxDepth=float('inf'), cache={}):\n",
        "        return self.ucs(startState, cache=cache, cost=\"none\")\n",
        "\n",
        "    def ucs(self, startState, cost=\"default\", maxCost=500, cache={}):\n",
        "        return self.astar(startState, cost=cost, maxCost=maxCost, cache=cache, heuristic=\"none\")\n",
        "\n",
        "    def astar(self, startState, maxCost=1000, cost=\"default\", heuristic=\"manhatten\", cache={}):\n",
        "        h = self.heuristic[heuristic]\n",
        "        costCalc = self.costs[cost]\n",
        "        queue = PriorityQueue()\n",
        "        action_map = {}\n",
        "        startState.h = h(startState, self.cache)\n",
        "        queue.update(startState, startState.h)\n",
        "        action_map[startState.toString()] = \"\"\n",
        "        while not queue.empty():\n",
        "            state, cost = queue.removeMin()\n",
        "            actions = action_map[state.toString()]\n",
        "            cache[state.toString()] = len(actions)\n",
        "            # print(actions)\n",
        "            if state.isSuccess():\n",
        "                return (actions,len(cache))\n",
        "            else\n",
        "            if cost >= maxCost:\n",
        "                continue\n",
        "            for (action, cost_delta) in state.getPossibleActions():\n",
        "                successor = state.successor(action)\n",
        "                if successor.toString() in cache:\n",
        "                    continue # = Don't go to an explored state again\n",
        "                old = action_map[successor.toString()] if successor.toString(\n",
        "                ) in action_map else None\n",
        "                if not old or len(old) > len(actions) + 1:\n",
        "                    action_map[successor.toString()] = actions + action\n",
        "                successor.h = h(successor, self.cache)\n",
        "                queue.update(successor, cost + costCalc(cost_delta, self.cache) + successor.h - state.h)\n",
        "        return (\"\",0)\n",
        "\n",
        "def manhattenDistance(a, b):\n",
        "    return abs(a[0] - b[0]) + abs(a[1] - b[1])\n",
        "\n",
        "\n",
        "# Data structure for supporting uniform cost search.\n",
        "class PriorityQueue:\n",
        "    def __init__(self):\n",
        "        self.DONE = -100000\n",
        "        self.heap = []\n",
        "        self.priorities = {}  # Map from state to priority\n",
        "\n",
        "    # Insert |state| into the heap with priority |newPriority| if\n",
        "    # |state| isn't in the heap or |newPriority| is smaller than the existing\n",
        "    # priority.\n",
        "    # Return whether the priority queue was updated.\n",
        "    def update(self, state, newPriority):\n",
        "        oldPriority = self.priorities.get(state)\n",
        "        if oldPriority == None or newPriority < oldPriority:\n",
        "            self.priorities[state] = newPriority\n",
        "            heapq.heappush(self.heap, (newPriority, state))\n",
        "            return True\n",
        "        return False\n",
        "\n",
        "    # Returns (state with minimum priority, priority)\n",
        "    # or (None, None) if the priority queue is empty.\n",
        "    def removeMin(self):\n",
        "        while len(self.heap) > 0:\n",
        "            priority, state = heapq.heappop(self.heap)\n",
        "            if self.priorities[state] == self.DONE:\n",
        "                continue  # Outdated priority, skip\n",
        "            self.priorities[state] = self.DONE\n",
        "            return (state, priority)\n",
        "        return (None, None)  # Nothing left...\n",
        "\n",
        "    def empty(self):\n",
        "        return len(self.heap) == 0\n"
      ]
    },
    {
      "cell_type": "markdown",
      "source": [
        "# Level Loader/Game Runner:"
      ],
      "metadata": {
        "id": "a98XrSzEB3Ez"
      }
    },
    {
      "cell_type": "code",
      "execution_count": null,
      "metadata": {
        "id": "q-Cg6eHiJi-Q"
      },
      "outputs": [],
      "source": [
        "def movePlayer(direction,myLevel):\n",
        "\n",
        "    matrix = myLevel.getMatrix()\n",
        "\n",
        "    myLevel.addToHistory(matrix)\n",
        "\n",
        "    matrix.successor(direction, True)\n",
        "\n",
        "    if matrix.isSuccess():\n",
        "        global current_level\n",
        "        current_level += 1\n",
        "        initLevel(level_set,current_level)\n",
        "\n",
        "def initLevel(level_set,level):\n",
        "    # Create an instance of this Level\n",
        "    global myLevel\n",
        "    myLevel = Level(level_set,level)\n",
        "\n",
        "\n",
        "def runGame(args):\n",
        "\n",
        "    global current_level\n",
        "    current_level = args['level']\n",
        "    global level_set\n",
        "    level_set = args['level_set']\n",
        "\n",
        "\n",
        "    # Level Initialisation\n",
        "    if current_level==args['last_level']+1:\n",
        "        sys.exit()\n",
        "    initLevel(level_set,current_level)\n",
        "    count=0\n",
        "    old_level = current_level - 1\n",
        "    while old_level == current_level - 1:\n",
        "        if current_level==args['last_level']+1:\n",
        "            sys.exit()\n",
        "        old_level = current_level\n",
        "        moves = solve(args, myLevel)\n",
        "        if moves != \"\":\n",
        "            for move in moves:\n",
        "                movePlayer(move, myLevel)\n",
        "        else:\n",
        "            print (\"Failed for level %d\"%(current_level))\n",
        "\n",
        "            current_level = current_level + 1\n",
        "            if current_level==args['last_level']+1:\n",
        "                sys.exit()\n",
        "            else:\n",
        "                initLevel(level_set,current_level)\n",
        "\n",
        "def solveInternal(cache, method, cost, heuristic):\n",
        "    solution = solver()\n",
        "    solution.refresh()\n",
        "    moves = []\n",
        "    moves_cache=[]\n",
        "    if method == \"dfs\":\n",
        "        moves_cache = solution.dfs(myLevel.getMatrix(), cache=cache)\n",
        "    elif method == \"bfs\":\n",
        "        moves_cache = solution.bfs(myLevel.getMatrix(), cache=cache)\n",
        "    elif method == \"ucs\":\n",
        "        moves_cache = solution.ucs(myLevel.getMatrix(), cache=cache)\n",
        "    elif method == \"astar\":\n",
        "        moves_cache = solution.astar(myLevel.getMatrix(), cache=cache, cost=cost, heuristic=heuristic)\n",
        "    return moves_cache\n",
        "\n",
        "def solve(args, myLevel):\n",
        "    moves_cache = solveInternal(method=args['method'], cache={}, cost=args['cost'], heuristic=args['heuristic'])\n",
        "    print (\"Level: %d, Moves: %s Length: %d States Explored: %d\" % (current_level, moves_cache[0], len(moves_cache[0]), moves_cache[1]))\n",
        "    return moves_cache[0]\n",
        "\n",
        "# def default(str):\n",
        "#   return str + ' [Default: %default]'\n"
      ]
    },
    {
      "cell_type": "markdown",
      "source": [
        "# **Test Examples Ahead: (Easier Test Cases)**"
      ],
      "metadata": {
        "id": "_MTHNZmlEnlw"
      }
    },
    {
      "cell_type": "code",
      "source": [
        "args = {\n",
        "    'method':'astar',\n",
        "    'cost': 'default',\n",
        "    'heuristic': 'manhatten',\n",
        "    'level': 1,\n",
        "    'last_level': 1,\n",
        "    'level_set':'test_examples',\n",
        "    # 'level_set':'project_levels'\n",
        "}\n",
        "runGame(args)"
      ],
      "metadata": {
        "colab": {
          "base_uri": "https://localhost:8080/",
          "height": 346
        },
        "id": "s4P1sJIf9yr5",
        "outputId": "8cdc5220-219f-4c98-f864-9df1decd7d91"
      },
      "execution_count": null,
      "outputs": [
        {
          "output_type": "error",
          "ename": "KeyboardInterrupt",
          "evalue": "ignored",
          "traceback": [
            "\u001b[0;31m---------------------------------------------------------------------------\u001b[0m",
            "\u001b[0;31mKeyboardInterrupt\u001b[0m                         Traceback (most recent call last)",
            "\u001b[0;32m<ipython-input-11-4b1573b29173>\u001b[0m in \u001b[0;36m<module>\u001b[0;34m\u001b[0m\n\u001b[1;32m      8\u001b[0m     \u001b[0;31m# 'level_set':'project_levels'\u001b[0m\u001b[0;34m\u001b[0m\u001b[0;34m\u001b[0m\u001b[0;34m\u001b[0m\u001b[0m\n\u001b[1;32m      9\u001b[0m }\n\u001b[0;32m---> 10\u001b[0;31m \u001b[0mrunGame\u001b[0m\u001b[0;34m(\u001b[0m\u001b[0margs\u001b[0m\u001b[0;34m)\u001b[0m\u001b[0;34m\u001b[0m\u001b[0;34m\u001b[0m\u001b[0m\n\u001b[0m",
            "\u001b[0;32m<ipython-input-5-f4271d81bcbe>\u001b[0m in \u001b[0;36mrunGame\u001b[0;34m(args)\u001b[0m\n\u001b[1;32m     40\u001b[0m             \u001b[0msys\u001b[0m\u001b[0;34m.\u001b[0m\u001b[0mexit\u001b[0m\u001b[0;34m(\u001b[0m\u001b[0;34m)\u001b[0m\u001b[0;34m\u001b[0m\u001b[0;34m\u001b[0m\u001b[0m\n\u001b[1;32m     41\u001b[0m         \u001b[0mold_level\u001b[0m \u001b[0;34m=\u001b[0m \u001b[0mcurrent_level\u001b[0m\u001b[0;34m\u001b[0m\u001b[0;34m\u001b[0m\u001b[0m\n\u001b[0;32m---> 42\u001b[0;31m         \u001b[0mmoves\u001b[0m \u001b[0;34m=\u001b[0m \u001b[0msolve\u001b[0m\u001b[0;34m(\u001b[0m\u001b[0margs\u001b[0m\u001b[0;34m,\u001b[0m \u001b[0mmyLevel\u001b[0m\u001b[0;34m)\u001b[0m\u001b[0;34m\u001b[0m\u001b[0;34m\u001b[0m\u001b[0m\n\u001b[0m\u001b[1;32m     43\u001b[0m         \u001b[0;32mif\u001b[0m \u001b[0mmoves\u001b[0m \u001b[0;34m!=\u001b[0m \u001b[0;34m\"\"\u001b[0m\u001b[0;34m:\u001b[0m\u001b[0;34m\u001b[0m\u001b[0;34m\u001b[0m\u001b[0m\n\u001b[1;32m     44\u001b[0m             \u001b[0;32mfor\u001b[0m \u001b[0mmove\u001b[0m \u001b[0;32min\u001b[0m \u001b[0mmoves\u001b[0m\u001b[0;34m:\u001b[0m\u001b[0;34m\u001b[0m\u001b[0;34m\u001b[0m\u001b[0m\n",
            "\u001b[0;32m<ipython-input-5-f4271d81bcbe>\u001b[0m in \u001b[0;36msolve\u001b[0;34m(args, myLevel)\u001b[0m\n\u001b[1;32m     72\u001b[0m \u001b[0;34m\u001b[0m\u001b[0m\n\u001b[1;32m     73\u001b[0m \u001b[0;32mdef\u001b[0m \u001b[0msolve\u001b[0m\u001b[0;34m(\u001b[0m\u001b[0margs\u001b[0m\u001b[0;34m,\u001b[0m \u001b[0mmyLevel\u001b[0m\u001b[0;34m)\u001b[0m\u001b[0;34m:\u001b[0m\u001b[0;34m\u001b[0m\u001b[0;34m\u001b[0m\u001b[0m\n\u001b[0;32m---> 74\u001b[0;31m     \u001b[0mmoves_cache\u001b[0m \u001b[0;34m=\u001b[0m \u001b[0msolveInternal\u001b[0m\u001b[0;34m(\u001b[0m\u001b[0mmethod\u001b[0m\u001b[0;34m=\u001b[0m\u001b[0margs\u001b[0m\u001b[0;34m[\u001b[0m\u001b[0;34m'method'\u001b[0m\u001b[0;34m]\u001b[0m\u001b[0;34m,\u001b[0m \u001b[0mcache\u001b[0m\u001b[0;34m=\u001b[0m\u001b[0;34m{\u001b[0m\u001b[0;34m}\u001b[0m\u001b[0;34m,\u001b[0m \u001b[0mcost\u001b[0m\u001b[0;34m=\u001b[0m\u001b[0margs\u001b[0m\u001b[0;34m[\u001b[0m\u001b[0;34m'cost'\u001b[0m\u001b[0;34m]\u001b[0m\u001b[0;34m,\u001b[0m \u001b[0mheuristic\u001b[0m\u001b[0;34m=\u001b[0m\u001b[0margs\u001b[0m\u001b[0;34m[\u001b[0m\u001b[0;34m'heuristic'\u001b[0m\u001b[0;34m]\u001b[0m\u001b[0;34m)\u001b[0m\u001b[0;34m\u001b[0m\u001b[0;34m\u001b[0m\u001b[0m\n\u001b[0m\u001b[1;32m     75\u001b[0m     \u001b[0mprint\u001b[0m \u001b[0;34m(\u001b[0m\u001b[0;34m\"Level: %d, Moves: %s Length: %d States Explored: %d\"\u001b[0m \u001b[0;34m%\u001b[0m \u001b[0;34m(\u001b[0m\u001b[0mcurrent_level\u001b[0m\u001b[0;34m,\u001b[0m \u001b[0mmoves_cache\u001b[0m\u001b[0;34m[\u001b[0m\u001b[0;36m0\u001b[0m\u001b[0;34m]\u001b[0m\u001b[0;34m,\u001b[0m \u001b[0mlen\u001b[0m\u001b[0;34m(\u001b[0m\u001b[0mmoves_cache\u001b[0m\u001b[0;34m[\u001b[0m\u001b[0;36m0\u001b[0m\u001b[0;34m]\u001b[0m\u001b[0;34m)\u001b[0m\u001b[0;34m,\u001b[0m \u001b[0mmoves_cache\u001b[0m\u001b[0;34m[\u001b[0m\u001b[0;36m1\u001b[0m\u001b[0;34m]\u001b[0m\u001b[0;34m)\u001b[0m\u001b[0;34m)\u001b[0m\u001b[0;34m\u001b[0m\u001b[0;34m\u001b[0m\u001b[0m\n\u001b[1;32m     76\u001b[0m     \u001b[0;32mreturn\u001b[0m \u001b[0mmoves_cache\u001b[0m\u001b[0;34m[\u001b[0m\u001b[0;36m0\u001b[0m\u001b[0;34m]\u001b[0m\u001b[0;34m\u001b[0m\u001b[0;34m\u001b[0m\u001b[0m\n",
            "\u001b[0;32m<ipython-input-5-f4271d81bcbe>\u001b[0m in \u001b[0;36msolveInternal\u001b[0;34m(cache, method, cost, heuristic)\u001b[0m\n\u001b[1;32m     62\u001b[0m     \u001b[0mmoves_cache\u001b[0m\u001b[0;34m=\u001b[0m\u001b[0;34m[\u001b[0m\u001b[0;34m]\u001b[0m\u001b[0;34m\u001b[0m\u001b[0;34m\u001b[0m\u001b[0m\n\u001b[1;32m     63\u001b[0m     \u001b[0;32mif\u001b[0m \u001b[0mmethod\u001b[0m \u001b[0;34m==\u001b[0m \u001b[0;34m\"dfs\"\u001b[0m\u001b[0;34m:\u001b[0m\u001b[0;34m\u001b[0m\u001b[0;34m\u001b[0m\u001b[0m\n\u001b[0;32m---> 64\u001b[0;31m         \u001b[0mmoves_cache\u001b[0m \u001b[0;34m=\u001b[0m \u001b[0msolution\u001b[0m\u001b[0;34m.\u001b[0m\u001b[0mdfs\u001b[0m\u001b[0;34m(\u001b[0m\u001b[0mmyLevel\u001b[0m\u001b[0;34m.\u001b[0m\u001b[0mgetMatrix\u001b[0m\u001b[0;34m(\u001b[0m\u001b[0;34m)\u001b[0m\u001b[0;34m,\u001b[0m \u001b[0mcache\u001b[0m\u001b[0;34m=\u001b[0m\u001b[0mcache\u001b[0m\u001b[0;34m)\u001b[0m\u001b[0;34m\u001b[0m\u001b[0;34m\u001b[0m\u001b[0m\n\u001b[0m\u001b[1;32m     65\u001b[0m     \u001b[0;32melif\u001b[0m \u001b[0mmethod\u001b[0m \u001b[0;34m==\u001b[0m \u001b[0;34m\"bfs\"\u001b[0m\u001b[0;34m:\u001b[0m\u001b[0;34m\u001b[0m\u001b[0;34m\u001b[0m\u001b[0m\n\u001b[1;32m     66\u001b[0m         \u001b[0mmoves_cache\u001b[0m \u001b[0;34m=\u001b[0m \u001b[0msolution\u001b[0m\u001b[0;34m.\u001b[0m\u001b[0mbfs\u001b[0m\u001b[0;34m(\u001b[0m\u001b[0mmyLevel\u001b[0m\u001b[0;34m.\u001b[0m\u001b[0mgetMatrix\u001b[0m\u001b[0;34m(\u001b[0m\u001b[0;34m)\u001b[0m\u001b[0;34m,\u001b[0m \u001b[0mcache\u001b[0m\u001b[0;34m=\u001b[0m\u001b[0mcache\u001b[0m\u001b[0;34m)\u001b[0m\u001b[0;34m\u001b[0m\u001b[0;34m\u001b[0m\u001b[0m\n",
            "\u001b[0;32m<ipython-input-10-0a6fb00e9fad>\u001b[0m in \u001b[0;36mdfs\u001b[0;34m(self, startState, maxDepth, cache)\u001b[0m\n\u001b[1;32m     67\u001b[0m                 \u001b[0;32mcontinue\u001b[0m\u001b[0;34m\u001b[0m\u001b[0;34m\u001b[0m\u001b[0m\n\u001b[1;32m     68\u001b[0m             \u001b[0;32mfor\u001b[0m \u001b[0;34m(\u001b[0m\u001b[0maction\u001b[0m\u001b[0;34m,\u001b[0m \u001b[0m_\u001b[0m\u001b[0;34m)\u001b[0m \u001b[0;32min\u001b[0m \u001b[0mstate\u001b[0m\u001b[0;34m.\u001b[0m\u001b[0mgetPossibleActions\u001b[0m\u001b[0;34m(\u001b[0m\u001b[0;34m)\u001b[0m\u001b[0;34m:\u001b[0m\u001b[0;34m\u001b[0m\u001b[0;34m\u001b[0m\u001b[0m\n\u001b[0;32m---> 69\u001b[0;31m                 \u001b[0msuccessor\u001b[0m \u001b[0;34m=\u001b[0m \u001b[0mstate\u001b[0m\u001b[0;34m.\u001b[0m\u001b[0msuccessor\u001b[0m\u001b[0;34m(\u001b[0m\u001b[0maction\u001b[0m\u001b[0;34m)\u001b[0m\u001b[0;34m\u001b[0m\u001b[0;34m\u001b[0m\u001b[0m\n\u001b[0m\u001b[1;32m     70\u001b[0m                 \u001b[0;31m# Don't go to an explored state\u001b[0m\u001b[0;34m\u001b[0m\u001b[0;34m\u001b[0m\u001b[0;34m\u001b[0m\u001b[0m\n\u001b[1;32m     71\u001b[0m                 \u001b[0;32mif\u001b[0m \u001b[0msuccessor\u001b[0m\u001b[0;34m.\u001b[0m\u001b[0mtoString\u001b[0m\u001b[0;34m(\u001b[0m\u001b[0;34m)\u001b[0m \u001b[0;32min\u001b[0m \u001b[0mcache\u001b[0m \u001b[0;32mand\u001b[0m \u001b[0mcache\u001b[0m\u001b[0;34m[\u001b[0m\u001b[0msuccessor\u001b[0m\u001b[0;34m.\u001b[0m\u001b[0mtoString\u001b[0m\u001b[0;34m(\u001b[0m\u001b[0;34m)\u001b[0m\u001b[0;34m]\u001b[0m \u001b[0;34m<=\u001b[0m \u001b[0mlen\u001b[0m\u001b[0;34m(\u001b[0m\u001b[0mactions\u001b[0m\u001b[0;34m)\u001b[0m \u001b[0;34m+\u001b[0m \u001b[0;36m1\u001b[0m\u001b[0;34m:\u001b[0m\u001b[0;34m\u001b[0m\u001b[0;34m\u001b[0m\u001b[0m\n",
            "\u001b[0;32m<ipython-input-9-4a2893546e1b>\u001b[0m in \u001b[0;36msuccessor\u001b[0;34m(self, direction, performOnSelf)\u001b[0m\n\u001b[1;32m     95\u001b[0m         \u001b[0;32mif\u001b[0m \u001b[0mperformOnSelf\u001b[0m\u001b[0;34m:\u001b[0m\u001b[0;34m\u001b[0m\u001b[0;34m\u001b[0m\u001b[0m\n\u001b[1;32m     96\u001b[0m             \u001b[0;32mreturn\u001b[0m \u001b[0mself\u001b[0m\u001b[0;34m.\u001b[0m\u001b[0msuccessorInternal\u001b[0m\u001b[0;34m(\u001b[0m\u001b[0mself\u001b[0m\u001b[0;34m,\u001b[0m \u001b[0mdirection\u001b[0m\u001b[0;34m)\u001b[0m\u001b[0;34m\u001b[0m\u001b[0;34m\u001b[0m\u001b[0m\n\u001b[0;32m---> 97\u001b[0;31m         \u001b[0mmatrix\u001b[0m \u001b[0;34m=\u001b[0m \u001b[0mcopy\u001b[0m\u001b[0;34m.\u001b[0m\u001b[0mdeepcopy\u001b[0m\u001b[0;34m(\u001b[0m\u001b[0mself\u001b[0m\u001b[0;34m)\u001b[0m\u001b[0;34m\u001b[0m\u001b[0;34m\u001b[0m\u001b[0m\n\u001b[0m\u001b[1;32m     98\u001b[0m         \u001b[0mself\u001b[0m\u001b[0;34m.\u001b[0m\u001b[0msuccessorInternal\u001b[0m\u001b[0;34m(\u001b[0m\u001b[0mmatrix\u001b[0m\u001b[0;34m,\u001b[0m \u001b[0mdirection\u001b[0m\u001b[0;34m)\u001b[0m\u001b[0;34m\u001b[0m\u001b[0;34m\u001b[0m\u001b[0m\n\u001b[1;32m     99\u001b[0m         \u001b[0mmatrix\u001b[0m\u001b[0;34m.\u001b[0m\u001b[0m_string\u001b[0m \u001b[0;34m=\u001b[0m \u001b[0;32mNone\u001b[0m\u001b[0;34m\u001b[0m\u001b[0;34m\u001b[0m\u001b[0m\n",
            "\u001b[0;32m/usr/lib/python3.7/copy.py\u001b[0m in \u001b[0;36mdeepcopy\u001b[0;34m(x, memo, _nil)\u001b[0m\n\u001b[1;32m    178\u001b[0m                     \u001b[0my\u001b[0m \u001b[0;34m=\u001b[0m \u001b[0mx\u001b[0m\u001b[0;34m\u001b[0m\u001b[0;34m\u001b[0m\u001b[0m\n\u001b[1;32m    179\u001b[0m                 \u001b[0;32melse\u001b[0m\u001b[0;34m:\u001b[0m\u001b[0;34m\u001b[0m\u001b[0;34m\u001b[0m\u001b[0m\n\u001b[0;32m--> 180\u001b[0;31m                     \u001b[0my\u001b[0m \u001b[0;34m=\u001b[0m \u001b[0m_reconstruct\u001b[0m\u001b[0;34m(\u001b[0m\u001b[0mx\u001b[0m\u001b[0;34m,\u001b[0m \u001b[0mmemo\u001b[0m\u001b[0;34m,\u001b[0m \u001b[0;34m*\u001b[0m\u001b[0mrv\u001b[0m\u001b[0;34m)\u001b[0m\u001b[0;34m\u001b[0m\u001b[0;34m\u001b[0m\u001b[0m\n\u001b[0m\u001b[1;32m    181\u001b[0m \u001b[0;34m\u001b[0m\u001b[0m\n\u001b[1;32m    182\u001b[0m     \u001b[0;31m# If is its own copy, don't memoize.\u001b[0m\u001b[0;34m\u001b[0m\u001b[0;34m\u001b[0m\u001b[0;34m\u001b[0m\u001b[0m\n",
            "\u001b[0;32m/usr/lib/python3.7/copy.py\u001b[0m in \u001b[0;36m_reconstruct\u001b[0;34m(x, memo, func, args, state, listiter, dictiter, deepcopy)\u001b[0m\n\u001b[1;32m    296\u001b[0m         \u001b[0;32mif\u001b[0m \u001b[0mdeep\u001b[0m\u001b[0;34m:\u001b[0m\u001b[0;34m\u001b[0m\u001b[0;34m\u001b[0m\u001b[0m\n\u001b[1;32m    297\u001b[0m             \u001b[0;32mfor\u001b[0m \u001b[0mitem\u001b[0m \u001b[0;32min\u001b[0m \u001b[0mlistiter\u001b[0m\u001b[0;34m:\u001b[0m\u001b[0;34m\u001b[0m\u001b[0;34m\u001b[0m\u001b[0m\n\u001b[0;32m--> 298\u001b[0;31m                 \u001b[0mitem\u001b[0m \u001b[0;34m=\u001b[0m \u001b[0mdeepcopy\u001b[0m\u001b[0;34m(\u001b[0m\u001b[0mitem\u001b[0m\u001b[0;34m,\u001b[0m \u001b[0mmemo\u001b[0m\u001b[0;34m)\u001b[0m\u001b[0;34m\u001b[0m\u001b[0;34m\u001b[0m\u001b[0m\n\u001b[0m\u001b[1;32m    299\u001b[0m                 \u001b[0my\u001b[0m\u001b[0;34m.\u001b[0m\u001b[0mappend\u001b[0m\u001b[0;34m(\u001b[0m\u001b[0mitem\u001b[0m\u001b[0;34m)\u001b[0m\u001b[0;34m\u001b[0m\u001b[0;34m\u001b[0m\u001b[0m\n\u001b[1;32m    300\u001b[0m         \u001b[0;32melse\u001b[0m\u001b[0;34m:\u001b[0m\u001b[0;34m\u001b[0m\u001b[0;34m\u001b[0m\u001b[0m\n",
            "\u001b[0;32m/usr/lib/python3.7/copy.py\u001b[0m in \u001b[0;36mdeepcopy\u001b[0;34m(x, memo, _nil)\u001b[0m\n\u001b[1;32m    148\u001b[0m     \u001b[0mcopier\u001b[0m \u001b[0;34m=\u001b[0m \u001b[0m_deepcopy_dispatch\u001b[0m\u001b[0;34m.\u001b[0m\u001b[0mget\u001b[0m\u001b[0;34m(\u001b[0m\u001b[0mcls\u001b[0m\u001b[0;34m)\u001b[0m\u001b[0;34m\u001b[0m\u001b[0;34m\u001b[0m\u001b[0m\n\u001b[1;32m    149\u001b[0m     \u001b[0;32mif\u001b[0m \u001b[0mcopier\u001b[0m\u001b[0;34m:\u001b[0m\u001b[0;34m\u001b[0m\u001b[0;34m\u001b[0m\u001b[0m\n\u001b[0;32m--> 150\u001b[0;31m         \u001b[0my\u001b[0m \u001b[0;34m=\u001b[0m \u001b[0mcopier\u001b[0m\u001b[0;34m(\u001b[0m\u001b[0mx\u001b[0m\u001b[0;34m,\u001b[0m \u001b[0mmemo\u001b[0m\u001b[0;34m)\u001b[0m\u001b[0;34m\u001b[0m\u001b[0;34m\u001b[0m\u001b[0m\n\u001b[0m\u001b[1;32m    151\u001b[0m     \u001b[0;32melse\u001b[0m\u001b[0;34m:\u001b[0m\u001b[0;34m\u001b[0m\u001b[0;34m\u001b[0m\u001b[0m\n\u001b[1;32m    152\u001b[0m         \u001b[0;32mtry\u001b[0m\u001b[0;34m:\u001b[0m\u001b[0;34m\u001b[0m\u001b[0;34m\u001b[0m\u001b[0m\n",
            "\u001b[0;32m/usr/lib/python3.7/copy.py\u001b[0m in \u001b[0;36m_deepcopy_list\u001b[0;34m(x, memo, deepcopy)\u001b[0m\n\u001b[1;32m    214\u001b[0m     \u001b[0mappend\u001b[0m \u001b[0;34m=\u001b[0m \u001b[0my\u001b[0m\u001b[0;34m.\u001b[0m\u001b[0mappend\u001b[0m\u001b[0;34m\u001b[0m\u001b[0;34m\u001b[0m\u001b[0m\n\u001b[1;32m    215\u001b[0m     \u001b[0;32mfor\u001b[0m \u001b[0ma\u001b[0m \u001b[0;32min\u001b[0m \u001b[0mx\u001b[0m\u001b[0;34m:\u001b[0m\u001b[0;34m\u001b[0m\u001b[0;34m\u001b[0m\u001b[0m\n\u001b[0;32m--> 216\u001b[0;31m         \u001b[0mappend\u001b[0m\u001b[0;34m(\u001b[0m\u001b[0mdeepcopy\u001b[0m\u001b[0;34m(\u001b[0m\u001b[0ma\u001b[0m\u001b[0;34m,\u001b[0m \u001b[0mmemo\u001b[0m\u001b[0;34m)\u001b[0m\u001b[0;34m)\u001b[0m\u001b[0;34m\u001b[0m\u001b[0;34m\u001b[0m\u001b[0m\n\u001b[0m\u001b[1;32m    217\u001b[0m     \u001b[0;32mreturn\u001b[0m \u001b[0my\u001b[0m\u001b[0;34m\u001b[0m\u001b[0;34m\u001b[0m\u001b[0m\n\u001b[1;32m    218\u001b[0m \u001b[0md\u001b[0m\u001b[0;34m[\u001b[0m\u001b[0mlist\u001b[0m\u001b[0;34m]\u001b[0m \u001b[0;34m=\u001b[0m \u001b[0m_deepcopy_list\u001b[0m\u001b[0;34m\u001b[0m\u001b[0;34m\u001b[0m\u001b[0m\n",
            "\u001b[0;32m/usr/lib/python3.7/copy.py\u001b[0m in \u001b[0;36mdeepcopy\u001b[0;34m(x, memo, _nil)\u001b[0m\n\u001b[1;32m    140\u001b[0m \u001b[0;34m\u001b[0m\u001b[0m\n\u001b[1;32m    141\u001b[0m     \u001b[0md\u001b[0m \u001b[0;34m=\u001b[0m \u001b[0mid\u001b[0m\u001b[0;34m(\u001b[0m\u001b[0mx\u001b[0m\u001b[0;34m)\u001b[0m\u001b[0;34m\u001b[0m\u001b[0;34m\u001b[0m\u001b[0m\n\u001b[0;32m--> 142\u001b[0;31m     \u001b[0my\u001b[0m \u001b[0;34m=\u001b[0m \u001b[0mmemo\u001b[0m\u001b[0;34m.\u001b[0m\u001b[0mget\u001b[0m\u001b[0;34m(\u001b[0m\u001b[0md\u001b[0m\u001b[0;34m,\u001b[0m \u001b[0m_nil\u001b[0m\u001b[0;34m)\u001b[0m\u001b[0;34m\u001b[0m\u001b[0;34m\u001b[0m\u001b[0m\n\u001b[0m\u001b[1;32m    143\u001b[0m     \u001b[0;32mif\u001b[0m \u001b[0my\u001b[0m \u001b[0;32mis\u001b[0m \u001b[0;32mnot\u001b[0m \u001b[0m_nil\u001b[0m\u001b[0;34m:\u001b[0m\u001b[0;34m\u001b[0m\u001b[0;34m\u001b[0m\u001b[0m\n\u001b[1;32m    144\u001b[0m         \u001b[0;32mreturn\u001b[0m \u001b[0my\u001b[0m\u001b[0;34m\u001b[0m\u001b[0;34m\u001b[0m\u001b[0m\n",
            "\u001b[0;31mKeyboardInterrupt\u001b[0m: "
          ]
        }
      ]
    },
    {
      "cell_type": "code",
      "execution_count": null,
      "metadata": {
        "id": "4XZ22wJtJi-Q",
        "colab": {
          "base_uri": "https://localhost:8080/",
          "height": 151
        },
        "outputId": "c325ea4a-ad63-4efd-fbea-d6ef9e5bbb7a"
      },
      "outputs": [
        {
          "output_type": "stream",
          "name": "stdout",
          "text": [
            "Level: 2, Moves: drrrrdrrddllUUruLLLulldRddrRlluuRRRdrrddlldlUrrruulluurDldDLddrUUUddrruuLuLDDuuLLulldRddRRdRUUruulDlLulDrrrDDlddrUUUrrddLruuluLLLrrddlddrUUUruLL Length: 144 States Explored: 43868\n"
          ]
        },
        {
          "output_type": "error",
          "ename": "SystemExit",
          "evalue": "ignored",
          "traceback": [
            "An exception has occurred, use %tb to see the full traceback.\n",
            "\u001b[0;31mSystemExit\u001b[0m\n"
          ]
        }
      ],
      "source": [
        "  \n",
        "args = {\n",
        "    'method':'astar',\n",
        "    'cost': 'default',\n",
        "    'heuristic': 'manhatten',\n",
        "    'level': 2,\n",
        "    'last_level': 2,\n",
        "    'level_set':'test_examples',\n",
        "    # 'level_set':'project_levels'\n",
        "}\n",
        "runGame(args)"
      ]
    },
    {
      "cell_type": "code",
      "source": [
        "args = {\n",
        "    'method':'astar',\n",
        "    'cost': 'default',\n",
        "    'heuristic': 'manhatten',\n",
        "    'level': 3,\n",
        "    'last_level': 3,\n",
        "    'level_set':'test_examples',\n",
        "    # 'level_set':'project_levels'\n",
        "}\n",
        "runGame(args)"
      ],
      "metadata": {
        "colab": {
          "base_uri": "https://localhost:8080/",
          "height": 151
        },
        "id": "eD9xhQ9h9xj_",
        "outputId": "318333db-a988-47ba-aad9-8a0902f89dbe"
      },
      "execution_count": null,
      "outputs": [
        {
          "output_type": "stream",
          "name": "stdout",
          "text": [
            "Level: 3, Moves: lluRRRRRllldlddddrrruurruuruulDlldLLulDDDDurUUrrurrDrddlllddlldlluRuuuuuRRRRldllddldddrruruurrruulDrdLLruuruulDDDrdLuuulldllddlddRRdrU Length: 134 States Explored: 582527\n"
          ]
        },
        {
          "output_type": "error",
          "ename": "SystemExit",
          "evalue": "ignored",
          "traceback": [
            "An exception has occurred, use %tb to see the full traceback.\n",
            "\u001b[0;31mSystemExit\u001b[0m\n"
          ]
        }
      ]
    },
    {
      "cell_type": "code",
      "source": [
        "args = {\n",
        "    'method':'astar',\n",
        "    'cost': 'default',\n",
        "    'heuristic': 'manhatten',\n",
        "    'level': 4,\n",
        "    'last_level': 4,\n",
        "    'level_set':'test_examples',\n",
        "    # 'level_set':'project_levels'\n",
        "}\n",
        "runGame(args)"
      ],
      "metadata": {
        "colab": {
          "base_uri": "https://localhost:8080/",
          "height": 186
        },
        "id": "f0Y-92cJ9Ygl",
        "outputId": "21c59c03-8cdd-422e-b0e3-40f03e5081cd"
      },
      "execution_count": null,
      "outputs": [
        {
          "output_type": "stream",
          "name": "stdout",
          "text": [
            "Level: 4, Moves: dlldddllluurRllddrrrurrrruuuuuulllllldddRDrrruullDldRluluuurrrrrrddddddllllULrddlUUrdrrrruuuuuulllllldddrrDDldRuuuurrddLruulldlDDrUdddllluuRRllddrrUrUdldlluurRuuluuurrrrrrddddddllL Length: 180 States Explored: 201583\n"
          ]
        },
        {
          "output_type": "error",
          "ename": "SystemExit",
          "evalue": "ignored",
          "traceback": [
            "An exception has occurred, use %tb to see the full traceback.\n",
            "\u001b[0;31mSystemExit\u001b[0m\n"
          ]
        },
        {
          "output_type": "stream",
          "name": "stderr",
          "text": [
            "/usr/local/lib/python3.7/dist-packages/IPython/core/interactiveshell.py:3334: UserWarning: To exit: use 'exit', 'quit', or Ctrl-D.\n",
            "  warn(\"To exit: use 'exit', 'quit', or Ctrl-D.\", stacklevel=1)\n"
          ]
        }
      ]
    },
    {
      "cell_type": "code",
      "source": [
        "args = {\n",
        "    'method':'astar',\n",
        "    'cost': 'default',\n",
        "    'heuristic': 'manhatten',\n",
        "    'level': 5,\n",
        "    'last_level': 5,\n",
        "    'level_set':'test_examples',\n",
        "    # 'level_set':'project_levels'\n",
        "}\n",
        "runGame(args)"
      ],
      "metadata": {
        "colab": {
          "base_uri": "https://localhost:8080/",
          "height": 151
        },
        "id": "PXgwf1Pe9uZL",
        "outputId": "ab7a66c2-1dc9-4093-9697-66fe2fa92d82"
      },
      "execution_count": null,
      "outputs": [
        {
          "output_type": "stream",
          "name": "stdout",
          "text": [
            "Level: 5, Moves: rurrrdrruuuLulDDDllldlluRRRRdRRdrUllUUUruulDllLdlDururrrDDDllldlluRRRRdRUUUddlllluuruulDDDururrRdddllldlluRRRRdrRdrruLLLUlllluururrrdrrdDuulluurDlllldlddrrrrUURuLLLrrdddlllluuuurDrrrddddrdrruLuuruLLullllldddrrrruUruLLLLulDDDuurrrrddddRdrUUUruLLrdddlluuUddllldlluRuuurrrRdddllLdlUUU Length: 281 States Explored: 1247051\n"
          ]
        },
        {
          "output_type": "error",
          "ename": "SystemExit",
          "evalue": "ignored",
          "traceback": [
            "An exception has occurred, use %tb to see the full traceback.\n",
            "\u001b[0;31mSystemExit\u001b[0m\n"
          ]
        }
      ]
    },
    {
      "cell_type": "code",
      "source": [
        "args = {\n",
        "    'method':'astar',\n",
        "    'cost': 'default',\n",
        "    'heuristic': 'manhatten',\n",
        "    'level': 6,\n",
        "    'last_level': 6,\n",
        "    'level_set':'test_examples',\n",
        "    # 'level_set':'project_levels'\n",
        "}\n",
        "runGame(args)"
      ],
      "metadata": {
        "id": "MmiwM05Z9uHN"
      },
      "execution_count": null,
      "outputs": []
    },
    {
      "cell_type": "markdown",
      "source": [
        "# **Original Test Cases Ahead:**"
      ],
      "metadata": {
        "id": "6nuyd2sMET4h"
      }
    },
    {
      "cell_type": "code",
      "source": [
        "args = {\n",
        "    'method':'astar',\n",
        "    'cost': 'default',\n",
        "    'heuristic': 'manhatten',\n",
        "    'level': 1,\n",
        "    'last_level': 1,\n",
        "    # 'level_set':'test_examples',\n",
        "    'level_set':'test_cases'\n",
        "}\n",
        "runGame(args)"
      ],
      "metadata": {
        "id": "M26QIPoEEzib"
      },
      "execution_count": null,
      "outputs": []
    },
    {
      "cell_type": "code",
      "source": [
        "args = {\n",
        "    'method':'astar',\n",
        "    'cost': 'default',\n",
        "    'heuristic': 'manhatten',\n",
        "    'level': 2,\n",
        "    'last_level': 2,\n",
        "    # 'level_set':'test_examples',\n",
        "    'level_set':'test_cases'\n",
        "}\n",
        "runGame(args)"
      ],
      "metadata": {
        "id": "gg2TQiPUE-7X"
      },
      "execution_count": null,
      "outputs": []
    },
    {
      "cell_type": "code",
      "source": [
        "args = {\n",
        "    'method':'astar',\n",
        "    'cost': 'default',\n",
        "    'heuristic': 'manhatten',\n",
        "    'level': 3,\n",
        "    'last_level': 3,\n",
        "    # 'level_set':'test_examples',\n",
        "    'level_set':'test_cases'\n",
        "}\n",
        "runGame(args)"
      ],
      "metadata": {
        "id": "vi7aFYgxE_KH"
      },
      "execution_count": null,
      "outputs": []
    },
    {
      "cell_type": "code",
      "source": [
        "args = {\n",
        "    'method':'astar',\n",
        "    'cost': 'default',\n",
        "    'heuristic': 'manhatten',\n",
        "    'level': 4,\n",
        "    'last_level': 4,\n",
        "    # 'level_set':'test_examples',\n",
        "    'level_set':'test_cases'\n",
        "}\n",
        "runGame(args)"
      ],
      "metadata": {
        "id": "UNoev8baE_Xz"
      },
      "execution_count": null,
      "outputs": []
    },
    {
      "cell_type": "code",
      "source": [
        "args = {\n",
        "    'method':'astar',\n",
        "    'cost': 'default',\n",
        "    'heuristic': 'manhatten',\n",
        "    'level': 5,\n",
        "    'last_level': 5,\n",
        "    # 'level_set':'test_examples',\n",
        "    'level_set':'test_cases'\n",
        "}\n",
        "runGame(args)"
      ],
      "metadata": {
        "id": "T35bsq1HE_fw"
      },
      "execution_count": null,
      "outputs": []
    },
    {
      "cell_type": "code",
      "source": [
        "args = {\n",
        "    'method':'astar',\n",
        "    'cost': 'default',\n",
        "    'heuristic': 'manhatten',\n",
        "    'level': 6,\n",
        "    'last_level': 6,\n",
        "    # 'level_set':'test_examples',\n",
        "    'level_set':'test_cases'\n",
        "}\n",
        "runGame(args)"
      ],
      "metadata": {
        "id": "o6TcsACJE_m6"
      },
      "execution_count": null,
      "outputs": []
    },
    {
      "cell_type": "code",
      "source": [
        "args = {\n",
        "    'method':'astar',\n",
        "    'cost': 'default',\n",
        "    'heuristic': 'manhatten',\n",
        "    'level': 7,\n",
        "    'last_level': 7,\n",
        "    # 'level_set':'test_examples',\n",
        "    'level_set':'test_cases'\n",
        "}\n",
        "runGame(args)"
      ],
      "metadata": {
        "id": "vW8T6_EcE_th"
      },
      "execution_count": null,
      "outputs": []
    },
    {
      "cell_type": "code",
      "source": [
        "args = {\n",
        "    'method':'astar',\n",
        "    'cost': 'default',\n",
        "    'heuristic': 'manhatten',\n",
        "    'level': 8,\n",
        "    'last_level': 8,\n",
        "    # 'level_set':'test_examples',\n",
        "    'level_set':'test_cases'\n",
        "}\n",
        "runGame(args)"
      ],
      "metadata": {
        "id": "zQrVASAsE_0t"
      },
      "execution_count": null,
      "outputs": []
    },
    {
      "cell_type": "code",
      "source": [
        "args = {\n",
        "    'method':'astar',\n",
        "    'cost': 'default',\n",
        "    'heuristic': 'manhatten',\n",
        "    'level': 9,\n",
        "    'last_level': 9,\n",
        "    # 'level_set':'test_examples',\n",
        "    'level_set':'test_cases'\n",
        "}\n",
        "runGame(args)"
      ],
      "metadata": {
        "id": "xPAvRrw-E_7Q"
      },
      "execution_count": null,
      "outputs": []
    },
    {
      "cell_type": "code",
      "source": [
        "args = {\n",
        "    'method':'astar',\n",
        "    'cost': 'default',\n",
        "    'heuristic': 'manhatten',\n",
        "    'level': 10,\n",
        "    'last_level': 10,\n",
        "    # 'level_set':'test_examples',\n",
        "    'level_set':'test_cases'\n",
        "}\n",
        "runGame(args)"
      ],
      "metadata": {
        "id": "PmjD3YvVFAB9"
      },
      "execution_count": null,
      "outputs": []
    },
    {
      "cell_type": "markdown",
      "source": [
        "# **Our Levels:**"
      ],
      "metadata": {
        "id": "aNP9Ba7xeJKo"
      }
    },
    {
      "cell_type": "code",
      "source": [
        "args = {\n",
        "    'method':'astar',\n",
        "    'cost': 'default',\n",
        "    'heuristic': 'manhatten',\n",
        "    'level': 1,\n",
        "    'last_level': 21,\n",
        "    # 'level_set':'test_examples',\n",
        "    'level_set':'project_levels'\n",
        "}\n",
        "runGame(args)"
      ],
      "metadata": {
        "colab": {
          "base_uri": "https://localhost:8080/",
          "height": 730
        },
        "id": "M9aTXY0EeO6x",
        "outputId": "44441914-d0d7-41bd-87f9-4df37b9da03e"
      },
      "execution_count": null,
      "outputs": [
        {
          "output_type": "stream",
          "name": "stdout",
          "text": [
            "Level: 1, Moves: ulluururrdLDuulldddrdrruLLdlUrruuL Length: 34 States Explored: 583\n",
            "Level: 2, Moves: rruullluuRlddrrrddllUdrruuuruullDllddRRlddrruUllluurrurrddrddLruuluulldDRdL Length: 75 States Explored: 4500\n",
            "Level: 3, Moves: rDuurDDlLulDuulDD Length: 17 States Explored: 295\n",
            "Level: 4, Moves: lllluUUUUdddlldlUUUUUrrRRRRurDD Length: 31 States Explored: 9801\n",
            "Level: 5, Moves: DldRRdrUlluuRuulDDDldRR Length: 23 States Explored: 3702\n",
            "Level: 6, Moves: DDDurrdLLuuurDlddrruLdlUlldRRuruulDrdLdlddrUUUrrdLulDlddrUluluRRRdLulDDruuruulDDrdLulD Length: 86 States Explored: 9108\n",
            "Level: 7, Moves: RuulDDrddlluRRdDldR Length: 19 States Explored: 651\n",
            "Level: 8, Moves: RuulDDrddlluRRdDldR Length: 19 States Explored: 651\n",
            "Level: 9, Moves: DurDlDDuRDDLrrdLL Length: 17 States Explored: 582\n",
            "Level: 10, Moves: rdrRRlluurDlddRRuLdlUrrRRRRlllDDldRRRRdrU Length: 41 States Explored: 78999\n",
            "Level: 11, Moves: ulluururrdLDuulldddrdrruLLdlUrruuL Length: 34 States Explored: 583\n",
            "Level: 12, Moves: rrurRdrURurrdLLLLLLdlluRRRRuRRdLulDrrrruLLL Length: 43 States Explored: 1137\n",
            "Level: 13, Moves: rUUddlluluurrRddLLdlUUdrrruullulldRddrrruuurrdLLdddrruLdlUU Length: 59 States Explored: 32472\n",
            "Level: 14, Moves: drrdRlullDRddlUUrurrdLulDlddrUUrrurrdLLulullDRddlUruRRdLulDlddrUUruullDRddlUrrUrdrruLL Length: 86 States Explored: 8863\n",
            "Level: 15, Moves: lURdrUUdllUlluurrDDururrdLddldllURuuullddRdrUdRdrUU Length: 51 States Explored: 19146\n",
            "Level: 16, Moves: urruuullDDuurrdddldllulluurRurrrdddlLLrrruuullDDuurrdddldlluRuuurrdLulDDulllddR Length: 79 States Explored: 21354\n",
            "Level: 17, Moves: luRlluururrdLLulDDldRdrruUddlluuururrdLLrddLdlUrrdrruLLL Length: 56 States Explored: 22528\n",
            "Level: 18, Moves: luUUUruulDrdLddddrruuLrddlluUUULLulldRddrRRuulLulDrrrruulDrdLLLrrddddrruLdlUUUUruulDrdLLrdddrruLdlUUUruulDrdL Length: 109 States Explored: 167358\n",
            "Level: 19, Moves: luUUUruLdddddrruuLrddlluUUUruulDLLdllddrrRRuUddlllluurruulDrrRdddlllluuRurrrdrruLLLLulDrrrdddddrruLdlUUUUruLLLrrddddrruLdlUUUruLL Length: 129 States Explored: 310819\n",
            "Level: 20, Moves: luRRRRuulDrdLLdlluRRRuululldRDuRRdrrrddlUruLuLLddRlldlluRRRuuLulDDurrddldlluRRluurrrrdLrrddlUruL Length: 96 States Explored: 273144\n",
            "Level: 21, Moves: rUUruLulldRRRdlddlluRdrUUrrdLLdlluRdrUruuRdrruulDrdLLulLulldRRRRdrruulDrddLLLLUddlluRdrUrruulLulldRRRRddrruLruulD Length: 113 States Explored: 180098\n"
          ]
        },
        {
          "output_type": "error",
          "ename": "FileNotFoundError",
          "evalue": "ignored",
          "traceback": [
            "\u001b[0;31m---------------------------------------------------------------------------\u001b[0m",
            "\u001b[0;31mFileNotFoundError\u001b[0m                         Traceback (most recent call last)",
            "\u001b[0;32m<ipython-input-13-000524e4ccb1>\u001b[0m in \u001b[0;36m<module>\u001b[0;34m\u001b[0m\n\u001b[1;32m      8\u001b[0m     \u001b[0;34m'level_set'\u001b[0m\u001b[0;34m:\u001b[0m\u001b[0;34m'project_levels'\u001b[0m\u001b[0;34m\u001b[0m\u001b[0;34m\u001b[0m\u001b[0m\n\u001b[1;32m      9\u001b[0m }\n\u001b[0;32m---> 10\u001b[0;31m \u001b[0mrunGame\u001b[0m\u001b[0;34m(\u001b[0m\u001b[0margs\u001b[0m\u001b[0;34m)\u001b[0m\u001b[0;34m\u001b[0m\u001b[0;34m\u001b[0m\u001b[0m\n\u001b[0m",
            "\u001b[0;32m<ipython-input-9-7bbff8aa886a>\u001b[0m in \u001b[0;36mrunGame\u001b[0;34m(args)\u001b[0m\n\u001b[1;32m     39\u001b[0m         \u001b[0;32mif\u001b[0m \u001b[0mmoves\u001b[0m \u001b[0;34m!=\u001b[0m \u001b[0;34m\"\"\u001b[0m\u001b[0;34m:\u001b[0m\u001b[0;34m\u001b[0m\u001b[0;34m\u001b[0m\u001b[0m\n\u001b[1;32m     40\u001b[0m             \u001b[0;32mfor\u001b[0m \u001b[0mmove\u001b[0m \u001b[0;32min\u001b[0m \u001b[0mmoves\u001b[0m\u001b[0;34m:\u001b[0m\u001b[0;34m\u001b[0m\u001b[0;34m\u001b[0m\u001b[0m\n\u001b[0;32m---> 41\u001b[0;31m                 \u001b[0mmovePlayer\u001b[0m\u001b[0;34m(\u001b[0m\u001b[0mmove\u001b[0m\u001b[0;34m,\u001b[0m \u001b[0mmyLevel\u001b[0m\u001b[0;34m)\u001b[0m\u001b[0;34m\u001b[0m\u001b[0;34m\u001b[0m\u001b[0m\n\u001b[0m\u001b[1;32m     42\u001b[0m         \u001b[0;32melse\u001b[0m\u001b[0;34m:\u001b[0m\u001b[0;34m\u001b[0m\u001b[0;34m\u001b[0m\u001b[0m\n\u001b[1;32m     43\u001b[0m             \u001b[0mprint\u001b[0m \u001b[0;34m(\u001b[0m\u001b[0;34m\"Failed for level %d\"\u001b[0m\u001b[0;34m%\u001b[0m\u001b[0;34m(\u001b[0m\u001b[0mcurrent_level\u001b[0m\u001b[0;34m)\u001b[0m\u001b[0;34m)\u001b[0m\u001b[0;34m\u001b[0m\u001b[0;34m\u001b[0m\u001b[0m\n",
            "\u001b[0;32m<ipython-input-9-7bbff8aa886a>\u001b[0m in \u001b[0;36mmovePlayer\u001b[0;34m(direction, myLevel)\u001b[0m\n\u001b[1;32m     10\u001b[0m         \u001b[0;32mglobal\u001b[0m \u001b[0mcurrent_level\u001b[0m\u001b[0;34m\u001b[0m\u001b[0;34m\u001b[0m\u001b[0m\n\u001b[1;32m     11\u001b[0m         \u001b[0mcurrent_level\u001b[0m \u001b[0;34m+=\u001b[0m \u001b[0;36m1\u001b[0m\u001b[0;34m\u001b[0m\u001b[0;34m\u001b[0m\u001b[0m\n\u001b[0;32m---> 12\u001b[0;31m         \u001b[0minitLevel\u001b[0m\u001b[0;34m(\u001b[0m\u001b[0mlevel_set\u001b[0m\u001b[0;34m,\u001b[0m\u001b[0mcurrent_level\u001b[0m\u001b[0;34m)\u001b[0m\u001b[0;34m\u001b[0m\u001b[0;34m\u001b[0m\u001b[0m\n\u001b[0m\u001b[1;32m     13\u001b[0m \u001b[0;34m\u001b[0m\u001b[0m\n\u001b[1;32m     14\u001b[0m \u001b[0;32mdef\u001b[0m \u001b[0minitLevel\u001b[0m\u001b[0;34m(\u001b[0m\u001b[0mlevel_set\u001b[0m\u001b[0;34m,\u001b[0m\u001b[0mlevel\u001b[0m\u001b[0;34m)\u001b[0m\u001b[0;34m:\u001b[0m\u001b[0;34m\u001b[0m\u001b[0;34m\u001b[0m\u001b[0m\n",
            "\u001b[0;32m<ipython-input-9-7bbff8aa886a>\u001b[0m in \u001b[0;36minitLevel\u001b[0;34m(level_set, level)\u001b[0m\n\u001b[1;32m     15\u001b[0m     \u001b[0;31m# Create an instance of this Level\u001b[0m\u001b[0;34m\u001b[0m\u001b[0;34m\u001b[0m\u001b[0;34m\u001b[0m\u001b[0m\n\u001b[1;32m     16\u001b[0m     \u001b[0;32mglobal\u001b[0m \u001b[0mmyLevel\u001b[0m\u001b[0;34m\u001b[0m\u001b[0;34m\u001b[0m\u001b[0m\n\u001b[0;32m---> 17\u001b[0;31m     \u001b[0mmyLevel\u001b[0m \u001b[0;34m=\u001b[0m \u001b[0mLevel\u001b[0m\u001b[0;34m(\u001b[0m\u001b[0mlevel_set\u001b[0m\u001b[0;34m,\u001b[0m\u001b[0mlevel\u001b[0m\u001b[0;34m)\u001b[0m\u001b[0;34m\u001b[0m\u001b[0;34m\u001b[0m\u001b[0m\n\u001b[0m\u001b[1;32m     18\u001b[0m \u001b[0;34m\u001b[0m\u001b[0m\n\u001b[1;32m     19\u001b[0m \u001b[0;34m\u001b[0m\u001b[0m\n",
            "\u001b[0;32m<ipython-input-7-d44c18db8c14>\u001b[0m in \u001b[0;36m__init__\u001b[0;34m(self, set, level_num)\u001b[0m\n\u001b[1;32m      8\u001b[0m         \u001b[0;32mdel\u001b[0m \u001b[0mself\u001b[0m\u001b[0;34m.\u001b[0m\u001b[0mmatrix_history\u001b[0m\u001b[0;34m[\u001b[0m\u001b[0;34m:\u001b[0m\u001b[0;34m]\u001b[0m\u001b[0;34m\u001b[0m\u001b[0;34m\u001b[0m\u001b[0m\n\u001b[1;32m      9\u001b[0m         \u001b[0;31m# Create level\u001b[0m\u001b[0;34m\u001b[0m\u001b[0;34m\u001b[0m\u001b[0;34m\u001b[0m\u001b[0m\n\u001b[0;32m---> 10\u001b[0;31m         \u001b[0;32mwith\u001b[0m \u001b[0mopen\u001b[0m\u001b[0;34m(\u001b[0m\u001b[0mset\u001b[0m\u001b[0;34m+\u001b[0m\u001b[0;34m'/level'\u001b[0m \u001b[0;34m+\u001b[0m \u001b[0mstr\u001b[0m\u001b[0;34m(\u001b[0m\u001b[0mlevel_num\u001b[0m\u001b[0;34m)\u001b[0m\u001b[0;34m+\u001b[0m\u001b[0;34m'.xsb'\u001b[0m\u001b[0;34m,\u001b[0m \u001b[0;34m'r'\u001b[0m\u001b[0;34m)\u001b[0m \u001b[0;32mas\u001b[0m \u001b[0mf\u001b[0m\u001b[0;34m:\u001b[0m\u001b[0;34m\u001b[0m\u001b[0;34m\u001b[0m\u001b[0m\n\u001b[0m\u001b[1;32m     11\u001b[0m                 \u001b[0;32mfor\u001b[0m \u001b[0mrow\u001b[0m \u001b[0;32min\u001b[0m \u001b[0mf\u001b[0m\u001b[0;34m.\u001b[0m\u001b[0mread\u001b[0m\u001b[0;34m(\u001b[0m\u001b[0;34m)\u001b[0m\u001b[0;34m.\u001b[0m\u001b[0msplitlines\u001b[0m\u001b[0;34m(\u001b[0m\u001b[0;34m)\u001b[0m\u001b[0;34m:\u001b[0m\u001b[0;34m\u001b[0m\u001b[0;34m\u001b[0m\u001b[0m\n\u001b[1;32m     12\u001b[0m                     \u001b[0mself\u001b[0m\u001b[0;34m.\u001b[0m\u001b[0mmatrix\u001b[0m\u001b[0;34m.\u001b[0m\u001b[0mappend\u001b[0m\u001b[0;34m(\u001b[0m\u001b[0mlist\u001b[0m\u001b[0;34m(\u001b[0m\u001b[0mrow\u001b[0m\u001b[0;34m)\u001b[0m\u001b[0;34m)\u001b[0m\u001b[0;34m\u001b[0m\u001b[0;34m\u001b[0m\u001b[0m\n",
            "\u001b[0;31mFileNotFoundError\u001b[0m: [Errno 2] No such file or directory: 'project_levels/level22.xsb'"
          ]
        }
      ]
    },
    {
      "cell_type": "code",
      "source": [
        "args = {\n",
        "    'method':'astar',\n",
        "    'cost': 'default',\n",
        "    'heuristic': 'manhatten',\n",
        "    'level': 1,\n",
        "    'last_level': 3,\n",
        "    # 'level_set':'test_examples',\n",
        "    'level_set':'project_levels'\n",
        "}\n",
        "runGame(args)"
      ],
      "metadata": {
        "colab": {
          "base_uri": "https://localhost:8080/",
          "height": 186
        },
        "id": "GgAD3OL-ElaS",
        "outputId": "c7ebab93-1580-45bf-c91e-cb72dfef3491"
      },
      "execution_count": null,
      "outputs": [
        {
          "output_type": "stream",
          "name": "stdout",
          "text": [
            "Level: 1, Moves: ulluururrdLDuulldddrdrruLLdlUrruuL Length: 34 States Explored: 583\n",
            "Level: 2, Moves: rruullluuRlddrrrddllUdrruuuruullDllddRRlddrruUllluurrurrddrddLruuluulldDRdL Length: 75 States Explored: 4500\n",
            "Level: 3, Moves: rDuurDDlLulDuulDD Length: 17 States Explored: 295\n"
          ]
        },
        {
          "output_type": "error",
          "ename": "SystemExit",
          "evalue": "ignored",
          "traceback": [
            "An exception has occurred, use %tb to see the full traceback.\n",
            "\u001b[0;31mSystemExit\u001b[0m\n"
          ]
        }
      ]
    }
  ],
  "metadata": {
    "kernelspec": {
      "display_name": "Python 3.10.8 64-bit (microsoft store)",
      "language": "python",
      "name": "python3"
    },
    "language_info": {
      "codemirror_mode": {
        "name": "ipython",
        "version": 3
      },
      "file_extension": ".py",
      "mimetype": "text/x-python",
      "name": "python",
      "nbconvert_exporter": "python",
      "pygments_lexer": "ipython3",
      "version": "3.10.8"
    },
    "orig_nbformat": 4,
    "vscode": {
      "interpreter": {
        "hash": "5ef9b31a7378b087704f7eb00540f3cdbe1453ee80dd937a3568c48b29f5e945"
      }
    },
    "colab": {
      "provenance": [],
      "include_colab_link": true
    },
    "gpuClass": "standard"
  },
  "nbformat": 4,
  "nbformat_minor": 0
}